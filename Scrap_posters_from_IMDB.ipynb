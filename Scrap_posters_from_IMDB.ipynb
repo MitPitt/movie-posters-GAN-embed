{
  "nbformat": 4,
  "nbformat_minor": 0,
  "metadata": {
    "colab": {
      "name": "Untitled1.ipynb",
      "provenance": [],
      "mount_file_id": "1UacSQgSlz481KwXDYjA-TWXlSua6YB9s",
      "authorship_tag": "ABX9TyNaKsq1iKtjbBnbAjfg5PAC",
      "include_colab_link": true
    },
    "kernelspec": {
      "name": "python3",
      "display_name": "Python 3"
    }
  },
  "cells": [
    {
      "cell_type": "markdown",
      "metadata": {
        "id": "view-in-github",
        "colab_type": "text"
      },
      "source": [
        "<a href=\"https://colab.research.google.com/github/MitPitt/movie-posters-GAN-embed/blob/master/Scrap_posters_from_IMDB.ipynb\" target=\"_parent\"><img src=\"https://colab.research.google.com/assets/colab-badge.svg\" alt=\"Open In Colab\"/></a>"
      ]
    },
    {
      "cell_type": "markdown",
      "metadata": {
        "id": "_GKEo_vwxyDZ",
        "colab_type": "text"
      },
      "source": [
        "scrap movie posters from moviedb"
      ]
    },
    {
      "cell_type": "markdown",
      "metadata": {
        "id": "VmgMzY5WxxDT",
        "colab_type": "text"
      },
      "source": [
        "https://www.imdb.com/search/title/?title_type=feature&year=1980-01-01,1995-12-31 1-50 of 56,395 titles"
      ]
    },
    {
      "cell_type": "markdown",
      "metadata": {
        "id": "hM-XJix494Lv",
        "colab_type": "text"
      },
      "source": [
        "https://www.imdb.com/search/title/?title_type=feature&year=1980-01-01,1995-12-31&start=1"
      ]
    },
    {
      "cell_type": "code",
      "metadata": {
        "id": "4uhV3ibt_6TS",
        "colab_type": "code",
        "colab": {}
      },
      "source": [
        "import requests\n",
        "from bs4 import BeautifulSoup\n",
        "import urllib.request"
      ],
      "execution_count": 0,
      "outputs": []
    },
    {
      "cell_type": "code",
      "metadata": {
        "id": "nSMmi902Uqge",
        "colab_type": "code",
        "colab": {}
      },
      "source": [
        "import logging\n",
        "\n",
        "logging.getLogger(\"requests\").setLevel(logging.WARNING)\n",
        "logging.getLogger(\"urllib3\").setLevel(logging.WARNING)"
      ],
      "execution_count": 0,
      "outputs": []
    },
    {
      "cell_type": "code",
      "metadata": {
        "id": "N5SDA2kY_pUu",
        "colab_type": "code",
        "colab": {
          "base_uri": "https://localhost:8080/",
          "height": 952
        },
        "outputId": "702957d8-5c75-4c59-e3e8-e255039608ba"
      },
      "source": [
        "i = 0\n",
        "for page in range(1,30000,50):\n",
        "    page_url = 'https://www.imdb.com/search/title/?title_type=feature&year=1980-01-01,1995-12-31&start=' + str(page)\n",
        "    print(page_url)\n",
        "    doc = requests.get(page_url)\n",
        "    soup = BeautifulSoup(doc.content, 'html.parser')\n",
        "    movies = soup.findAll('h3', attrs={'class' : 'lister-item-header'})\n",
        "    for movie in movies:\n",
        "        i += 1\n",
        "        movie_url = 'https://www.imdb.com' + movie.a['href']\n",
        "\n",
        "        movie_doc = requests.get(movie_url)\n",
        "        movie_soup = BeautifulSoup(movie_doc.content, 'html.parser')\n",
        "\n",
        "        name = movie_soup.find('title').text.replace('- IMDb', '').strip()\n",
        "\n",
        "        genres_ = movie_soup.find('div', attrs={'class' : 'subtext'}).findAll('a')\n",
        "        genres = []\n",
        "        for genre in genres_[:-1]:\n",
        "            genres.append(genre.text.lower())\n",
        "        #print(genres)\n",
        "\n",
        "        poster_url = movie_soup.find('div', attrs={'class' : 'poster'}).find('img')['src']\n",
        "        poster = urllib.request.urlopen(poster_url)\n",
        "        \n",
        "        filename = \"{}&{}\".format(name, '|'.join(genres))\n",
        "        print(filename, movie_url)\n",
        "\n",
        "        with open('/content/drive/My Drive/new posters/posters/{}.jpg'.format(filename), 'wb') as f:\n",
        "            f.write(poster.read())"
      ],
      "execution_count": 0,
      "outputs": [
        {
          "output_type": "stream",
          "text": [
            "https://www.imdb.com/search/title/?title_type=feature&year=1980-01-01,1995-12-31&start=1\n",
            "Back to the Future (1985)&adventure|comedy|sci-fi https://www.imdb.com/title/tt0088763/\n",
            "Forrest Gump (1994)&drama|romance https://www.imdb.com/title/tt0109830/\n",
            "The Shawshank Redemption (1994)&drama https://www.imdb.com/title/tt0111161/\n",
            "The Princess Bride (1987)&adventure|family|fantasy https://www.imdb.com/title/tt0093779/\n",
            "Pulp Fiction (1994)&crime|drama https://www.imdb.com/title/tt0110912/\n",
            "The Silence of the Lambs (1991)&crime|drama|thriller https://www.imdb.com/title/tt0102926/\n",
            "A League of Their Own (1992)&comedy|drama|family https://www.imdb.com/title/tt0104694/\n",
            "Dune (1984)&action|adventure|sci-fi https://www.imdb.com/title/tt0087182/\n",
            "Back to the Future Part II (1989)&adventure|comedy|sci-fi https://www.imdb.com/title/tt0096874/\n",
            "Se7en (1995)&crime|drama|mystery https://www.imdb.com/title/tt0114369/\n",
            "The Goonies (1985)&adventure|comedy|family https://www.imdb.com/title/tt0089218/\n",
            "Goodfellas (1990)&biography|crime|drama https://www.imdb.com/title/tt0099685/\n",
            "Top Gun (1986)&action|drama https://www.imdb.com/title/tt0092099/\n",
            "The Breakfast Club (1985)&comedy|drama https://www.imdb.com/title/tt0088847/\n",
            "Jurassic Park (1993)&action|adventure|sci-fi https://www.imdb.com/title/tt0107290/\n",
            "Scarface (1983)&crime|drama https://www.imdb.com/title/tt0086250/\n",
            "Schindler's List (1993)&biography|drama|history https://www.imdb.com/title/tt0108052/\n",
            "Beetlejuice (1988)&comedy|fantasy https://www.imdb.com/title/tt0094721/\n",
            "Raiders of the Lost Ark (1981)&action|adventure https://www.imdb.com/title/tt0082971/\n",
            "Star Wars: Episode V - The Empire Strikes Back (1980)&action|adventure|fantasy https://www.imdb.com/title/tt0080684/\n",
            "Léon: The Professional (1994)&action|crime|drama https://www.imdb.com/title/tt0110413/\n",
            "The Shining (1980)&drama|horror https://www.imdb.com/title/tt0081505/\n",
            "The Usual Suspects (1995)&crime|mystery|thriller https://www.imdb.com/title/tt0114814/\n",
            "Star Wars: Episode VI - Return of the Jedi (1983)&action|adventure|fantasy https://www.imdb.com/title/tt0086190/\n",
            "The Lion King (1994)&animation|adventure|drama https://www.imdb.com/title/tt0110357/\n",
            "Valley Girl (1983)&comedy|romance https://www.imdb.com/title/tt0086525/\n",
            "Four Weddings and a Funeral (1994)&comedy|drama|romance https://www.imdb.com/title/tt0109831/\n",
            "Dirty Dancing (1987)&drama|music|romance https://www.imdb.com/title/tt0092890/\n",
            "Ferris Bueller's Day Off (1986)&comedy https://www.imdb.com/title/tt0091042/\n",
            "Braveheart (1995)&biography|drama|history https://www.imdb.com/title/tt0112573/\n",
            "The Blue Lagoon (1980)&adventure|drama|romance https://www.imdb.com/title/tt0080453/\n",
            "Aliens (1986)&action|adventure|sci-fi https://www.imdb.com/title/tt0090605/\n",
            "Point Break (1991)&action|crime|thriller https://www.imdb.com/title/tt0102685/\n",
            "Bad Boys (1995)&action|comedy|crime https://www.imdb.com/title/tt0112442/\n",
            "Stand by Me (1986)&adventure|drama https://www.imdb.com/title/tt0092005/\n",
            "Back to the Future Part III (1990)&adventure|comedy|sci-fi https://www.imdb.com/title/tt0099088/\n",
            "The Outsiders (1983)&crime|drama https://www.imdb.com/title/tt0086066/\n",
            "Blade Runner (1982)&action|sci-fi|thriller https://www.imdb.com/title/tt0083658/\n",
            "Heat (1995)&crime|drama|thriller https://www.imdb.com/title/tt0113277/\n",
            "RoboCop (1987)&action|crime|sci-fi https://www.imdb.com/title/tt0093870/\n",
            "Dazed and Confused (1993)&comedy https://www.imdb.com/title/tt0106677/\n",
            "Willow (1988)&action|adventure|drama https://www.imdb.com/title/tt0096446/\n",
            "The Godfather: Part III (1990)&crime|drama https://www.imdb.com/title/tt0099674/\n",
            "Airplane! (1980)&comedy https://www.imdb.com/title/tt0080339/\n",
            "Reservoir Dogs (1992)&crime|drama|thriller https://www.imdb.com/title/tt0105236/\n",
            "Clueless (1995)&comedy|romance https://www.imdb.com/title/tt0112697/\n",
            "Full Metal Jacket (1987)&drama|war https://www.imdb.com/title/tt0093058/\n",
            "Ace Ventura: Pet Detective (1994)&comedy https://www.imdb.com/title/tt0109040/\n",
            "Tombstone (1993)&action|biography|drama https://www.imdb.com/title/tt0108358/\n",
            "Mommie Dearest (1981)&biography|drama https://www.imdb.com/title/tt0082766/\n",
            "https://www.imdb.com/search/title/?title_type=feature&year=1980-01-01,1995-12-31&start=51\n",
            "Terminator 2: Judgment Day (1991)&action|sci-fi https://www.imdb.com/title/tt0103064/\n",
            "Cool World (1992)&animation|comedy|fantasy https://www.imdb.com/title/tt0104009/\n",
            "The Terminator (1984)&action|sci-fi https://www.imdb.com/title/tt0088247/\n"
          ],
          "name": "stdout"
        }
      ]
    },
    {
      "cell_type": "code",
      "metadata": {
        "id": "G4ZTMqwHBUMt",
        "colab_type": "code",
        "colab": {
          "base_uri": "https://localhost:8080/",
          "height": 34
        },
        "outputId": "2e4fe84d-7966-445d-a6e2-40f41424c387"
      },
      "source": [
        "i"
      ],
      "execution_count": 65,
      "outputs": [
        {
          "output_type": "execute_result",
          "data": {
            "text/plain": [
              "100"
            ]
          },
          "metadata": {
            "tags": []
          },
          "execution_count": 65
        }
      ]
    }
  ]
}