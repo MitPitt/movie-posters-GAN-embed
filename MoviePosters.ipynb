{
  "nbformat": 4,
  "nbformat_minor": 0,
  "metadata": {
    "colab": {
      "name": "MoviePosters.ipynb",
      "provenance": [],
      "collapsed_sections": [],
      "mount_file_id": "1m6x4qDYM7XLJ95vjciPMX61uGm2cAZbW",
      "authorship_tag": "ABX9TyPHysBigeu43Uk9lyKRVsmJ",
      "include_colab_link": true
    },
    "kernelspec": {
      "name": "python3",
      "display_name": "Python 3"
    }
  },
  "cells": [
    {
      "cell_type": "markdown",
      "metadata": {
        "id": "view-in-github",
        "colab_type": "text"
      },
      "source": [
        "<a href=\"https://colab.research.google.com/github/MitPitt/movie-posters-GAN-embed/blob/master/MoviePosters.ipynb\" target=\"_parent\"><img src=\"https://colab.research.google.com/assets/colab-badge.svg\" alt=\"Open In Colab\"/></a>"
      ]
    },
    {
      "cell_type": "markdown",
      "metadata": {
        "id": "gLblY3mWNASh",
        "colab_type": "text"
      },
      "source": [
        "# github mounting\n"
      ]
    },
    {
      "cell_type": "markdown",
      "metadata": {
        "id": "XL-YvudJym8G",
        "colab_type": "text"
      },
      "source": [
        "https://github.com/MitPitt/movie-posters-GAN-embed"
      ]
    },
    {
      "cell_type": "code",
      "metadata": {
        "id": "l1eklGn_F7xn",
        "colab_type": "code",
        "colab": {
          "base_uri": "https://localhost:8080/",
          "height": 119
        },
        "outputId": "45df3e1d-2df6-45ef-fb90-53d24b188e4e"
      },
      "source": [
        "from getpass import getpass # То же что input() но с точечками\n",
        "from os.path import join  \n",
        "\n",
        "# в колабе Google Drive маунтится кнопкой слева\n",
        "ROOT = \"/content/drive\"\n",
        "MY_GOOGLE_DRIVE_PATH = 'My Drive/MoviePostersGAN' \n",
        "GIT_USERNAME = \"MitPitt\" \n",
        "GIT_REPOSITORY = \"movie-posters-GAN-embed\" \n",
        "GIT_TOKEN = getpass(\"GIT_TOKEN: \")\n",
        "\n",
        "PROJECT_PATH = join(ROOT, MY_GOOGLE_DRIVE_PATH)\n",
        "print(\"PROJECT_PATH: \", PROJECT_PATH)   \n",
        "\n",
        "GIT_PATH = \"https://\" + GIT_TOKEN + \"@github.com/\" + GIT_USERNAME + \"/\" + GIT_REPOSITORY + \".git\"\n",
        "\n",
        "%cd \"{PROJECT_PATH}\"\n",
        "!git clone \"{GIT_PATH}\"\n",
        "\n",
        "%cd \"{GIT_REPOSITORY}\"\n",
        "\n",
        "%ls"
      ],
      "execution_count": 16,
      "outputs": [
        {
          "output_type": "stream",
          "text": [
            "GIT_TOKEN: ··········\n",
            "PROJECT_PATH:  /content/drive/My Drive/MoviePostersGAN\n",
            "/content/drive/My Drive/MoviePostersGAN\n",
            "fatal: destination path 'movie-posters-GAN-embed' already exists and is not an empty directory.\n",
            "/content/drive/My Drive/MoviePostersGAN/movie-posters-GAN-embed\n",
            "MoviePosters.ipynb  README.md\n"
          ],
          "name": "stdout"
        }
      ]
    },
    {
      "cell_type": "code",
      "metadata": {
        "id": "tyg7Rurcx6Sj",
        "colab_type": "code",
        "colab": {
          "base_uri": "https://localhost:8080/",
          "height": 34
        },
        "outputId": "ff5ca7c5-e924-4a13-d1f5-dd7325e96cad"
      },
      "source": [
        "!git merge"
      ],
      "execution_count": 18,
      "outputs": [
        {
          "output_type": "stream",
          "text": [
            "Already up to date.\n"
          ],
          "name": "stdout"
        }
      ]
    },
    {
      "cell_type": "code",
      "metadata": {
        "id": "KF89fuFEOcYu",
        "colab_type": "code",
        "colab": {}
      },
      "source": [
        "!git add .\n",
        "!git config --global user.email \"mit-pitt@yandex.ru\"\n",
        "!git config --global user.name \"Dmitry Piterkin\"\n",
        "COMMIT_NAME = input(\"Commit COMMIT_NAME: \")\n",
        "!git commit -m \"{COMMIT_NAME}\""
      ],
      "execution_count": 0,
      "outputs": []
    },
    {
      "cell_type": "code",
      "metadata": {
        "id": "HvcwyzAhPPll",
        "colab_type": "code",
        "colab": {
          "base_uri": "https://localhost:8080/",
          "height": 102
        },
        "outputId": "09891528-f298-40f0-d584-17d7923983fb"
      },
      "source": [
        "!git status"
      ],
      "execution_count": 28,
      "outputs": [
        {
          "output_type": "stream",
          "text": [
            "On branch master\n",
            "Your branch is ahead of 'origin/master' by 1 commit.\n",
            "  (use \"git push\" to publish your local commits)\n",
            "\n",
            "nothing to commit, working tree clean\n"
          ],
          "name": "stdout"
        }
      ]
    },
    {
      "cell_type": "code",
      "metadata": {
        "id": "a3HUx8C8QpGf",
        "colab_type": "code",
        "colab": {
          "base_uri": "https://localhost:8080/",
          "height": 136
        },
        "outputId": "d43ea207-e4b9-4707-9e3d-d5796d381e30"
      },
      "source": [
        "!git push -f origin master"
      ],
      "execution_count": 29,
      "outputs": [
        {
          "output_type": "stream",
          "text": [
            "Counting objects: 988, done.\n",
            "Delta compression using up to 2 threads.\n",
            "Compressing objects: 100% (987/987), done.\n",
            "Writing objects: 100% (988/988), 18.53 MiB | 3.13 MiB/s, done.\n",
            "Total 988 (delta 0), reused 0 (delta 0)\n",
            "To https://github.com/MitPitt/movie-posters-GAN-embed.git\n",
            "   b06ef57..68f1d23  master -> master\n"
          ],
          "name": "stdout"
        }
      ]
    },
    {
      "cell_type": "markdown",
      "metadata": {
        "id": "gYewtr1sYLeJ",
        "colab_type": "text"
      },
      "source": [
        "# Movie posters GAN/embed"
      ]
    },
    {
      "cell_type": "code",
      "metadata": {
        "id": "wrVur9QjzuES",
        "colab_type": "code",
        "colab": {}
      },
      "source": [
        "posters_path = \"/SampleMoviePosters/SampleMoviePosters\""
      ],
      "execution_count": 0,
      "outputs": []
    },
    {
      "cell_type": "code",
      "metadata": {
        "id": "-T3wfJVU1NNe",
        "colab_type": "code",
        "colab": {}
      },
      "source": [
        "import pandas as pd\n",
        "import matplotlib.pyplot as plt"
      ],
      "execution_count": 0,
      "outputs": []
    },
    {
      "cell_type": "code",
      "metadata": {
        "id": "Q2QSeEUe1i-_",
        "colab_type": "code",
        "colab": {}
      },
      "source": [
        "MoviesCSV = pd.read_csv(\"MovieGenre.csv\", encoding='latin1')"
      ],
      "execution_count": 0,
      "outputs": []
    },
    {
      "cell_type": "code",
      "metadata": {
        "id": "hdFrDQts1xx8",
        "colab_type": "code",
        "colab": {
          "base_uri": "https://localhost:8080/",
          "height": 204
        },
        "outputId": "971febbe-95bf-4190-fa2d-47e0f75e7501"
      },
      "source": [
        "MoviesCSV.head()"
      ],
      "execution_count": 35,
      "outputs": [
        {
          "output_type": "execute_result",
          "data": {
            "text/html": [
              "<div>\n",
              "<style scoped>\n",
              "    .dataframe tbody tr th:only-of-type {\n",
              "        vertical-align: middle;\n",
              "    }\n",
              "\n",
              "    .dataframe tbody tr th {\n",
              "        vertical-align: top;\n",
              "    }\n",
              "\n",
              "    .dataframe thead th {\n",
              "        text-align: right;\n",
              "    }\n",
              "</style>\n",
              "<table border=\"1\" class=\"dataframe\">\n",
              "  <thead>\n",
              "    <tr style=\"text-align: right;\">\n",
              "      <th></th>\n",
              "      <th>imdbId</th>\n",
              "      <th>Imdb Link</th>\n",
              "      <th>Title</th>\n",
              "      <th>IMDB Score</th>\n",
              "      <th>Genre</th>\n",
              "      <th>Poster</th>\n",
              "    </tr>\n",
              "  </thead>\n",
              "  <tbody>\n",
              "    <tr>\n",
              "      <th>0</th>\n",
              "      <td>114709</td>\n",
              "      <td>http://www.imdb.com/title/tt114709</td>\n",
              "      <td>Toy Story (1995)</td>\n",
              "      <td>8.3</td>\n",
              "      <td>Animation|Adventure|Comedy</td>\n",
              "      <td>https://images-na.ssl-images-amazon.com/images...</td>\n",
              "    </tr>\n",
              "    <tr>\n",
              "      <th>1</th>\n",
              "      <td>113497</td>\n",
              "      <td>http://www.imdb.com/title/tt113497</td>\n",
              "      <td>Jumanji (1995)</td>\n",
              "      <td>6.9</td>\n",
              "      <td>Action|Adventure|Family</td>\n",
              "      <td>https://images-na.ssl-images-amazon.com/images...</td>\n",
              "    </tr>\n",
              "    <tr>\n",
              "      <th>2</th>\n",
              "      <td>113228</td>\n",
              "      <td>http://www.imdb.com/title/tt113228</td>\n",
              "      <td>Grumpier Old Men (1995)</td>\n",
              "      <td>6.6</td>\n",
              "      <td>Comedy|Romance</td>\n",
              "      <td>https://images-na.ssl-images-amazon.com/images...</td>\n",
              "    </tr>\n",
              "    <tr>\n",
              "      <th>3</th>\n",
              "      <td>114885</td>\n",
              "      <td>http://www.imdb.com/title/tt114885</td>\n",
              "      <td>Waiting to Exhale (1995)</td>\n",
              "      <td>5.7</td>\n",
              "      <td>Comedy|Drama|Romance</td>\n",
              "      <td>https://images-na.ssl-images-amazon.com/images...</td>\n",
              "    </tr>\n",
              "    <tr>\n",
              "      <th>4</th>\n",
              "      <td>113041</td>\n",
              "      <td>http://www.imdb.com/title/tt113041</td>\n",
              "      <td>Father of the Bride Part II (1995)</td>\n",
              "      <td>5.9</td>\n",
              "      <td>Comedy|Family|Romance</td>\n",
              "      <td>https://images-na.ssl-images-amazon.com/images...</td>\n",
              "    </tr>\n",
              "  </tbody>\n",
              "</table>\n",
              "</div>"
            ],
            "text/plain": [
              "   imdbId  ...                                             Poster\n",
              "0  114709  ...  https://images-na.ssl-images-amazon.com/images...\n",
              "1  113497  ...  https://images-na.ssl-images-amazon.com/images...\n",
              "2  113228  ...  https://images-na.ssl-images-amazon.com/images...\n",
              "3  114885  ...  https://images-na.ssl-images-amazon.com/images...\n",
              "4  113041  ...  https://images-na.ssl-images-amazon.com/images...\n",
              "\n",
              "[5 rows x 6 columns]"
            ]
          },
          "metadata": {
            "tags": []
          },
          "execution_count": 35
        }
      ]
    },
    {
      "cell_type": "code",
      "metadata": {
        "id": "qnCNYwdo2GNI",
        "colab_type": "code",
        "colab": {}
      },
      "source": [
        ""
      ],
      "execution_count": 0,
      "outputs": []
    }
  ]
}